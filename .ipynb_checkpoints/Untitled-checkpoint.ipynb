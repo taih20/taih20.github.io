{
 "cells": [
  {
   "cell_type": "code",
   "execution_count": 3,
   "metadata": {},
   "outputs": [],
   "source": [
    "import xml\n",
    "from xml.dom.minidom import parse\n",
    "\n",
    "\n",
    "domTree = parse('CameraReadyPapers.xml')\n",
    "root = domTree.documentElement\n",
    "rows = root.getElementsByTagName('Row')\n",
    "with open('tmp.txt','w',encoding='utf-8') as f:\n",
    "    for i in range(len(rows)):\n",
    "        if i == 0 or i == 1:\n",
    "            continue\n",
    "        prefix1 = \"<li><b><u><a href=>\"\n",
    "        prefix2 = \"</a></u></b> - <i>\"\n",
    "        prefix3 = \"</i></li>\"\n",
    "\n",
    "        title = rows[i].getElementsByTagName('Data')[1].firstChild.data\n",
    "        author = rows[i].getElementsByTagName('Data')[3].firstChild.data.replace(';',',').replace('*','')\n",
    "        # author_list = author.split(';')\n",
    "        # author = ''\n",
    "        # for j in range(len(author_list)):\n",
    "        #     author += author_list[j].split(' (')[0].split(' ')[-1] + ', '\n",
    "        # author = author[:-2]\n",
    "\n",
    "        text = prefix1 + title + prefix2 + author + prefix3 + '\\n'\n",
    "        f.write(text)"
   ]
  },
  {
   "cell_type": "code",
   "execution_count": null,
   "metadata": {},
   "outputs": [],
   "source": []
  }
 ],
 "metadata": {
  "kernelspec": {
   "display_name": "Python 3",
   "language": "python",
   "name": "python3"
  },
  "language_info": {
   "codemirror_mode": {
    "name": "ipython",
    "version": 3
   },
   "file_extension": ".py",
   "mimetype": "text/x-python",
   "name": "python",
   "nbconvert_exporter": "python",
   "pygments_lexer": "ipython3",
   "version": "3.7.3"
  }
 },
 "nbformat": 4,
 "nbformat_minor": 2
}
